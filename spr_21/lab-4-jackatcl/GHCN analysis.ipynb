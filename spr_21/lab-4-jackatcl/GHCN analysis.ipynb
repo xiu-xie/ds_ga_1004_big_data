{
 "cells": [
  {
   "cell_type": "markdown",
   "id": "destroyed-cattle",
   "metadata": {},
   "source": [
    "# GHCN Analysis"
   ]
  },
  {
   "cell_type": "code",
   "execution_count": 1,
   "id": "roman-moment",
   "metadata": {},
   "outputs": [],
   "source": [
    "import os\n",
    "from glob import glob\n",
    "\n",
    "import dask\n",
    "import dask.bag as db\n",
    "import dask.dataframe as dd\n",
    "from distributed import Client\n",
    "from dask_jobqueue import SLURMCluster\n",
    "\n",
    "from IPython.display import display\n",
    "import matplotlib.pyplot as pltw\n",
    "\n",
    "from ghcn import load_daily"
   ]
  },
  {
   "cell_type": "code",
   "execution_count": 2,
   "id": "realistic-threat",
   "metadata": {},
   "outputs": [
    {
     "data": {
      "application/vnd.jupyter.widget-view+json": {
       "model_id": "832d69006a2642c389827dd8995d0b80",
       "version_major": 2,
       "version_minor": 0
      },
      "text/plain": [
       "VBox(children=(HTML(value='<h2>SLURMCluster</h2>'), HBox(children=(HTML(value='\\n<div>\\n  <style scoped>\\n    …"
      ]
     },
     "metadata": {},
     "output_type": "display_data"
    },
    {
     "data": {
      "text/html": [
       "<table style=\"border: 2px solid white;\">\n",
       "<tr>\n",
       "<td style=\"vertical-align: top; border: 0px solid white\">\n",
       "<h3 style=\"text-align: left;\">Client</h3>\n",
       "<ul style=\"text-align: left; list-style: none; margin: 0; padding: 0;\">\n",
       "  <li><b>Scheduler: </b>tcp://10.32.33.29:43153</li>\n",
       "  <li><b>Dashboard: </b><a href='http://10.32.33.29:8787/status' target='_blank'>http://10.32.33.29:8787/status</a></li>\n",
       "</ul>\n",
       "</td>\n",
       "<td style=\"vertical-align: top; border: 0px solid white\">\n",
       "<h3 style=\"text-align: left;\">Cluster</h3>\n",
       "<ul style=\"text-align: left; list-style:none; margin: 0; padding: 0;\">\n",
       "  <li><b>Workers: </b>0</li>\n",
       "  <li><b>Cores: </b>0</li>\n",
       "  <li><b>Memory: </b>0 B</li>\n",
       "</ul>\n",
       "</td>\n",
       "</tr>\n",
       "</table>"
      ],
      "text/plain": [
       "<Client: 'tcp://10.32.33.29:43153' processes=0 threads=0, memory=0 B>"
      ]
     },
     "metadata": {},
     "output_type": "display_data"
    }
   ],
   "source": [
    "# Set LOCAL to True for single-machine execution while developing\n",
    "# Set LOCAL to False for cluster execution\n",
    "LOCAL = False\n",
    "\n",
    "if LOCAL:\n",
    "    # This line creates a single-machine dask client\n",
    "    client = Client()\n",
    "else:    \n",
    "    # This line creates a SLURM cluster dask and dask client\n",
    "    # Logging outputs will be stored in /scratch/{your-netid}\n",
    "    \n",
    "    cluster = SLURMCluster(memory='4GB', cores=2, python='/scratch/work/public/dask/bin/python', \n",
    "                               local_directory='/tmp/{}/'.format(os.environ['SLURM_JOB_USER']),\n",
    "                               job_extra=['--output=/scratch/{}/slurm-%j.out'.format(os.environ['SLURM_JOB_USER'])])\n",
    "\n",
    "    cluster.submit_command = 'slurm'\n",
    "    cluster.scale(100)\n",
    "\n",
    "    display(cluster)\n",
    "    client = Client(cluster)\n",
    "\n",
    "display(client)"
   ]
  },
  {
   "cell_type": "code",
   "execution_count": 19,
   "id": "juvenile-absolute",
   "metadata": {},
   "outputs": [
    {
     "name": "stdout",
     "output_type": "stream",
     "text": [
      "50\n"
     ]
    },
    {
     "data": {
      "text/plain": [
       "{'station_id': 'ASN00002069',\n",
       " 'year': 1993,\n",
       " 'month': 7,\n",
       " 'element': 'PRCP',\n",
       " 'day': 1,\n",
       " 'value': 0,\n",
       " 'measurement': ' ',\n",
       " 'quality': ' ',\n",
       " 'source': 'a'}"
      ]
     },
     "execution_count": 19,
     "metadata": {},
     "output_type": "execute_result"
    }
   ],
   "source": [
    "# Get a list of all input files\n",
    "# We'll sort them alphabetically to ensure reproducibility\n",
    "\n",
    "files = sorted(glob('/scratch/work/courses/DSGA1004-2021/ghcnd_tiny/*.dly'))\n",
    "# files = sorted(glob('/scratch/work/courses/DSGA1004-2021/ghcnd_small/*.dly'))\n",
    "# files = sorted(glob('/scratch/work/courses/DSGA1004-2021/ghcnd_all/*.dly'))\n",
    "\n",
    "print(len(files))\n",
    "# Load in a single file to demonstrate the parser\n",
    "# Just print out the first few records to illustrate the structure\n",
    "load_daily(files[0])[:3][0]"
   ]
  },
  {
   "cell_type": "code",
   "execution_count": 20,
   "id": "noticed-congo",
   "metadata": {},
   "outputs": [
    {
     "name": "stdout",
     "output_type": "stream",
     "text": [
      "CPU times: user 11.7 ms, sys: 2.9 ms, total: 14.6 ms\n",
      "Wall time: 28.2 ms\n"
     ]
    }
   ],
   "source": [
    "%%time\n",
    "# Load daily files into bags\n",
    "# load_delayed = dask.delayed(load_daily)\n",
    "# b = db.from_sequence(files).map(load_delayed)\n",
    "# b.compute()\n",
    "\n",
    "def value_map(d):\n",
    "    return {'year':d['year'], 'value':d['value'], 'element':d['element'], 'quality':d['quality']}\n",
    "\n",
    "# c = db.from_delayed([dask.delayed(load_daily)(fn) for fn in files])\n",
    "# c = c.filter(quality_map)\n",
    "# c.compute()\n",
    "# c = c.map(value_map)\n",
    "# c.compute()\n",
    "# c = c.to_dataframe()\n",
    "# c.compute()\n",
    "\n",
    "c = db.from_delayed([dask.delayed(load_daily)(fn) for fn in files]).map(value_map).to_dataframe()\n",
    "# c.compute()\n",
    "\n",
    "# c.visualize()"
   ]
  },
  {
   "cell_type": "code",
   "execution_count": null,
   "id": "hydraulic-frank",
   "metadata": {},
   "outputs": [],
   "source": []
  },
  {
   "cell_type": "code",
   "execution_count": 21,
   "id": "noted-david",
   "metadata": {},
   "outputs": [
    {
     "name": "stdout",
     "output_type": "stream",
     "text": [
      "CPU times: user 611 ms, sys: 14 ms, total: 625 ms\n",
      "Wall time: 1.27 s\n"
     ]
    }
   ],
   "source": [
    "%%time\n",
    "# Compute aggregated statistics\n",
    "\n",
    "# PRCP\n",
    "# s1 = (c.filter(lambda record: record['element'] == 'PRCP')\n",
    "#       .groupby(lambda record: record['year'])\n",
    "#       .map(lambda record: record['value']).mean())\n",
    "# s1.compute()\n",
    "\n",
    "# prcp_res = c[c['element'] == 'PRCP'].groupby('year').value.mean().compute()\n",
    "c = c[(c.value != -9999) & (c.quality == ' ')]\n",
    "\n",
    "tmax_res = c[c['element'] == 'TMAX'].groupby('year').agg({'value':'mean'}).compute()\n",
    "tmin_res = c[c['element'] == 'TMIN'].groupby('year').agg({'value':'mean'}).compute()\n",
    "tavg_res = c[c['element'] == 'TAVG'].groupby('year').agg({'value':'mean'}).compute()"
   ]
  },
  {
   "cell_type": "code",
   "execution_count": 22,
   "id": "geographic-division",
   "metadata": {},
   "outputs": [
    {
     "data": {
      "image/png": "[encoded data removed]",
      "text/plain": [
       "<Figure size 432x288 with 1 Axes>"
      ]
     },
     "metadata": {
      "needs_background": "light"
     },
     "output_type": "display_data"
    }
   ],
   "source": [
    "# Plot the results\n",
    "import matplotlib.pyplot as plt\n",
    "\n",
    "file_type = 'tiny'\n",
    "tmax_res.to_csv(\"tmax-{}.csv\".format(file_type))\n",
    "tmin_res.to_csv(\"tmin-{}.csv\".format(file_type))\n",
    "tavg_res.to_csv(\"tavg-{}.csv\".format(file_type))\n",
    "\n",
    "tmax_res = tmax_res.sort_index()\n",
    "tmin_res = tmin_res.sort_index()\n",
    "tavg_res = tavg_res.sort_index()\n",
    "plt.plot(tmax_res.index, tmax_res.value, label = \"TMAX\")\n",
    "plt.plot(tmin_res.index, tmin_res.value, label = \"TMIN\")\n",
    "plt.plot(tavg_res.index, tavg_res.value, label = \"TAVG\")\n",
    "plt.xlabel(\"Year\")\n",
    "plt.ylabel(\"Avg Temperature\")\n",
    "plt.legend()\n",
    "plt.savefig('{}.png'.format(file_type))\n",
    "plt.show()"
   ]
  },
  {
   "cell_type": "code",
   "execution_count": 13,
   "id": "vulnerable-surrey",
   "metadata": {},
   "outputs": [],
   "source": []
  },
  {
   "cell_type": "code",
   "execution_count": null,
   "id": "manufactured-sydney",
   "metadata": {},
   "outputs": [],
   "source": []
  },
  {
   "cell_type": "code",
   "execution_count": null,
   "id": "removed-genesis",
   "metadata": {},
   "outputs": [],
   "source": []
  },
  {
   "cell_type": "code",
   "execution_count": null,
   "id": "removed-fever",
   "metadata": {},
   "outputs": [],
   "source": []
  }
 ],
 "metadata": {
  "kernelspec": {
   "display_name": "Python 3",
   "language": "python",
   "name": "python3"
  },
  "language_info": {
   "codemirror_mode": {
    "name": "ipython",
    "version": 3
   },
   "file_extension": ".py",
   "mimetype": "text/x-python",
   "name": "python",
   "nbconvert_exporter": "python",
   "pygments_lexer": "ipython3",
   "version": "3.8.5"
  }
 },
 "nbformat": 4,
 "nbformat_minor": 5
}
